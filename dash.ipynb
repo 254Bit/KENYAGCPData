{
 "cells": [
  {
   "cell_type": "code",
   "execution_count": null,
   "metadata": {},
   "outputs": [
    {
     "ename": "",
     "evalue": "",
     "output_type": "error",
     "traceback": [
      "\u001b[1;31mFailed to start the Kernel. \n",
      "\u001b[1;31mUnable to start Kernel 'Python 3.11.9' due to a timeout waiting for the ports to get used. \n",
      "\u001b[1;31mView Jupyter <a href='command:jupyter.viewOutput'>log</a> for further details."
     ]
    }
   ],
   "source": [
    "import numpy as np\n",
    "import pandas as pd\n",
    "import plotly as py\n",
    "import seaborn as sns\n",
    "from matplotlib import pyplot as plt\n"
   ]
  },
  {
   "cell_type": "code",
   "execution_count": null,
   "metadata": {},
   "outputs": [],
   "source": [
    "economicSectorData = pd.read_csv('gcp_economic_sectors.csv')\n",
    "economicSectorData"
   ]
  },
  {
   "cell_type": "code",
   "execution_count": null,
   "metadata": {},
   "outputs": [],
   "source": [
    "economicSectorData.info()"
   ]
  },
  {
   "cell_type": "code",
   "execution_count": null,
   "metadata": {},
   "outputs": [],
   "source": [
    "economicSectorData.describe(include='all')"
   ]
  },
  {
   "cell_type": "code",
   "execution_count": null,
   "metadata": {},
   "outputs": [],
   "source": [
    "# Style the figures with a coma separated\n",
    "# economicSectorData.style.format({\n",
    "#                                  'Agriculture_Forestry_and_Mining':'{:,d}',\n",
    "#                                  'Mining_and_Quarrying':'{:,d}',\n",
    "#                                  'Manufacturing':'{:,d}',\n",
    "#                                  'Electricity_supply':'{:,d}',\n",
    "#                                  'Water_supply_waste_collection':'{:,d}',\n",
    "#                                  'Construction':'{:,d}',\n",
    "#                                  'Wholesale_and_Retail_trade_repair_of_motor_vehicles':'{:,d}',\n",
    "#                                  'Transport_and_storage':'{:,d}',\n",
    "#                                  'Accommodation_and_food_service_activities':'{:,d}',\n",
    "#                                  })\n",
    "# economicSectorData.head(5)"
   ]
  },
  {
   "cell_type": "code",
   "execution_count": null,
   "metadata": {},
   "outputs": [],
   "source": [
    "# Data Preparation \n",
    "# Check the region median of GCP Per \n",
    "economicSectorData.groupby('County')[['GCP', 'Agriculture_Forestry_and_Mining']].median().style.format('Kshs {0:,.0f}')"
   ]
  },
  {
   "cell_type": "code",
   "execution_count": null,
   "metadata": {},
   "outputs": [],
   "source": [
    "for col in economicSectorData.columns.values :\n",
    "    if economicSectorData[col].isnull().sum() == 0:\n",
    "        continue\n",
    "    if col == 'Climate':\n",
    "        guess_values = economicSectorData.groupby('Region')['Climate'].apply(lambda x: x.mode().max())\n",
    "    else:\n",
    "        guess_values = economicSectorData.groupby('Region')[col].median()"
   ]
  },
  {
   "cell_type": "code",
   "execution_count": null,
   "metadata": {},
   "outputs": [],
   "source": [
    "# Top 10 Counties with highest GCP\n",
    "\n",
    "fig, ax = plt.subplots(figsize=(16,6))\n",
    "top_gcp_counties = economicSectorData.sort_values('GCP', ascending=False).head(20)\n",
    "mean = pd.DataFrame({'County':[''],})\n",
    "\n",
    "sns.barplot(x='County', y='', data=gdps, palette='Set1')\n",
    "\n"
   ]
  },
  {
   "cell_type": "code",
   "execution_count": null,
   "metadata": {},
   "outputs": [],
   "source": [
    "# Preparing data frames\n",
    "df2018 = economicSectorData[economicSectorData.Year == 2018]\n",
    "df2019 = economicSectorData[economicSectorData.Year == 2019]\n",
    "df2020 = economicSectorData[economicSectorData.Year == 2020]"
   ]
  },
  {
   "cell_type": "code",
   "execution_count": null,
   "metadata": {},
   "outputs": [],
   "source": [
    "#  Sort the Data according to the highest GCP\n",
    "economicSectorData.sort_values(by='GCP').head()"
   ]
  }
 ],
 "metadata": {
  "kernelspec": {
   "display_name": "Python 3",
   "language": "python",
   "name": "python3"
  },
  "language_info": {
   "codemirror_mode": {
    "name": "ipython",
    "version": 3
   },
   "file_extension": ".py",
   "mimetype": "text/x-python",
   "name": "python",
   "nbconvert_exporter": "python",
   "pygments_lexer": "ipython3",
   "version": "3.11.9"
  }
 },
 "nbformat": 4,
 "nbformat_minor": 2
}
